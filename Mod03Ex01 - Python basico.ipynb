{
 "cells": [
  {
   "cell_type": "markdown",
   "metadata": {},
   "source": [
    "### 01 - Teste de gravidez\n",
    "Escreva uma célula com controle de fluxos que tem como premissa a existência das seguintes variáveis:\n",
    "\n",
    "- ```sexo``` como ```str``` indicando os valores '**M**' para masculino e '**F**' para feminino  \n",
    "- ```beta_hcg``` que indica a quantidade do beta-HCG no sangue em mUI/mL.\n",
    "\n",
    "A sua tarefa é escrever um código que imprima como resultado \"indivíduo do sexo masculino\" quando sexo = 'M', caso sexo = 'F', se o valor de beta-HCG for maior que 5, retorne \"Positivo\" indicando que a paciente está grávida, e retorne \"Negativo\" caso contrário.\n",
    "\n",
    "Não mexa nos valores da variável ```sexo``` nem em ```beta_hcg```, e escreva um código que funcione para quaisquer valores possíveis de ambos: ```sexo``` = '**M**' ou '**F**' e ```beta_hcg``` assumindo valores inteiros positivos."
   ]
  },
  {
   "cell_type": "code",
   "execution_count": 1,
   "metadata": {},
   "outputs": [
    {
     "name": "stdin",
     "output_type": "stream",
     "text": [
      "Qual o seu sexo?  M\n"
     ]
    },
    {
     "name": "stdout",
     "output_type": "stream",
     "text": [
      "Indivíduo do sexo masculino.\n"
     ]
    }
   ],
   "source": [
    "sexo = 'M'\n",
    "beta_hcg = 0\n",
    "\n",
    "# seu código vem abaixo desta linha\n",
    "sexo = 'M'\n",
    "beta_hcg = 0\n",
    "\n",
    "sexo = str(input('Qual o seu sexo? '))\n",
    "if sexo == 'M':\n",
    "    print(\"Indivíduo do sexo masculino.\")\n",
    "elif sexo == 'F':\n",
    "    print(\"Indivíduo do sexo feminino.\")\n",
    "\n",
    "if sexo == 'F':\n",
    "    beta_hcg = int(input('Digite o nível de beta-HCG no seu sangue:'))\n",
    "sexo != 'M'\n",
    "beta_hcg >= 5\n",
    "\n",
    "if sexo != 'M' and beta_hcg >= 5:\n",
    "    print('Positivo para gravidez.')\n",
    "elif sexo != 'M' and beta_hcg <= 5:\n",
    "    print('Negativo para gravidez.')\n"
   ]
  },
  {
   "cell_type": "markdown",
   "metadata": {},
   "source": [
    "### 02 - Renomeando variáveis\n",
    "\n",
    "Vamos ver adiante que uma forma de renomear variáveis de um conjunto de dados é através de dicionários - o dicionário deve conter como chave o nome original, associando a cada chave um único valor (tipo *str*) que contenha o nome novo.\n",
    "\n",
    "A sua tarefa é escrever um dicionário que possa ser utilizado para traduzir as variáveis ```name``` (nome), ```age``` (idade) e ```income``` (renda). Ou seja, esse dicionário deve relacionar as chaves *name, age* e *income* às suas respectivas traduções."
   ]
  },
  {
   "cell_type": "code",
   "execution_count": 2,
   "metadata": {},
   "outputs": [
    {
     "name": "stdout",
     "output_type": "stream",
     "text": [
      "{'name': 'nome', 'age': 'idade', 'income': 'renda'}\n"
     ]
    }
   ],
   "source": [
    "dic_renomeacao = {'name':'1'}\n",
    "dic_renomeacao['name'] = 'nome'\n",
    "dic_renomeacao['age'] = 'idade'\n",
    "dic_renomeacao['income'] = 'renda'\n",
    "print(dic_renomeacao)"
   ]
  },
  {
   "cell_type": "markdown",
   "metadata": {},
   "source": [
    "### 03 - É divisível?\n",
    "A sua tarefa é escrever um código que indique se um número ```N``` é divisível por um número P. Escreva um programa que faça essa verificação para quaisquer combinações de ```N``` e ```M``` e devolva uma mensagem indicativa no output."
   ]
  },
  {
   "cell_type": "code",
   "execution_count": 3,
   "metadata": {},
   "outputs": [
    {
     "name": "stdout",
     "output_type": "stream",
     "text": [
      "42 é divisível por 7.\n",
      "7 não é divisível por 42.\n"
     ]
    }
   ],
   "source": [
    "N = 42\n",
    "M = 7\n",
    "\n",
    "#Seu código\n",
    "\n",
    "N = 42\n",
    "M = 7\n",
    "\n",
    "if(N % M) == 0:\n",
    "    print('42 é divisível por 7.')\n",
    "else:\n",
    "    print('42 não é divisível por 7.')\n",
    "if(M % N) == 0:\n",
    "    print('7 é divisível por 42.')\n",
    "else:\n",
    "    print('7 não é divisível por 42.')\n",
    "\n",
    "#Obs. O enunciado faz referência a \"N\" e \"P\" e depois menciona\n",
    "#\"quaisquer combinações de 'N' e 'M'\". Como no exercício só consatam \n",
    "#as variáveis \"N\" e \"M\", presumi que houve um erro de digitação."
   ]
  },
  {
   "cell_type": "markdown",
   "metadata": {},
   "source": [
    "### 04 - Números primos\n",
    "> Um número **N** é primo se e somente se é divisível por 1, -1, por **N** e por -**N**.  \n",
    "\n",
    "Escreva um script que verifica se ```N``` é um número primo, verificando se ```N``` é divisível por todos os números de ```1``` a ```N-1```. Você vai precisar usar alguma ferramenta de *loop* que você aprendeu para isto. No final, devolva uma mensagem no output indicando se o número é primo ou não."
   ]
  },
  {
   "cell_type": "code",
   "execution_count": 4,
   "metadata": {},
   "outputs": [
    {
     "name": "stdout",
     "output_type": "stream",
     "text": [
      "47 é um número primo.\n"
     ]
    }
   ],
   "source": [
    "N = 47\n",
    "\n",
    "# seu código abaixo\n",
    "\n",
    "N = 47\n",
    "primo = True\n",
    "i = 2\n",
    "\n",
    "while i < N and primo:\n",
    "    if N % i == 0:\n",
    "        primo = False\n",
    "    i += 1\n",
    "\n",
    "if primo:\n",
    "    print (N, 'é um número primo.')\n",
    "else:\n",
    "    print (N, 'não é um número primo.')\n"
   ]
  },
  {
   "cell_type": "markdown",
   "metadata": {},
   "source": [
    "### 05 - Desafio\n",
    "O algorítmo do exercício anterior não é o mais eficiente. O que você pode fazer para deixá-lo mais eficiente? Ou seja, executar menos comparações, portanto consumir menos tempo.\n",
    "1. Será que precisamos correr o loop até o final sempre?\n",
    "2. Será que precisamos mesmo verificar **todos** os números?\n",
    "3. Será que precisamos ir até N-1?\n",
    "\n",
    "Essas perguntas levam ao tipo de pensamento voltado a deixar um algoritmo mais eficiente. Veja se você consegue melhorar o seu."
   ]
  },
  {
   "cell_type": "code",
   "execution_count": 55,
   "metadata": {},
   "outputs": [],
   "source": [
    "N = 98\n",
    "\n",
    "# seu código aqui\n",
    "\n",
    "#para resolver o exercício anterior fiz uma pesquisa na internet e encontrei diversos altoritmos diferentes.\n",
    "#acho que o que escolhi já é o mais simples, correto?\n"
   ]
  },
  {
   "cell_type": "markdown",
   "metadata": {},
   "source": [
    "### 06 - Peso ideal 1\n",
    "O IMC (índice de massa corpórea) é um indicador de saúde mais bem aceito que o peso. Ele é calculado como:\n",
    "\n",
    "$$ IMC = \\dfrac{peso}{altura^2}$$\n",
    "\n",
    "Segundo a OMS, valores *normais* são entre 18.5 e 24.9.\n",
    "\n",
    "Sua tarefa é encontrar o ponto médio dessa faixa."
   ]
  },
  {
   "cell_type": "code",
   "execution_count": 7,
   "metadata": {
    "scrolled": true
   },
   "outputs": [
    {
     "name": "stdin",
     "output_type": "stream",
     "text": [
      "Digite o valor mínimo para IMC: 18.5\n",
      "Digite o valor máximo para IMC: 24.9\n"
     ]
    },
    {
     "name": "stdout",
     "output_type": "stream",
     "text": [
      "O ponto médio é 21.7\n"
     ]
    }
   ],
   "source": [
    "\n",
    "\n",
    "# seu código aqui\n",
    "\n",
    "imc_normalminimo = float(input('Digite o valor mínimo para IMC:'))\n",
    "imc_normalmaximo = float(input('Digite o valor máximo para IMC:'))\n",
    "imc_ideal = (imc_normalminimo + imc_normalmaximo) / 2\n",
    "print('O ponto médio é', imc_ideal)\n"
   ]
  },
  {
   "cell_type": "markdown",
   "metadata": {},
   "source": [
    "### 07 - Peso ideal 2\n",
    "Recebendo um valor de altura, encontre o peso '*ideal*' dessa pessoa, que fornece o IMC encontrado acima"
   ]
  },
  {
   "cell_type": "code",
   "execution_count": 11,
   "metadata": {},
   "outputs": [
    {
     "name": "stdout",
     "output_type": "stream",
     "text": [
      "O peso ideal é 62.712999999999994 quilos.\n"
     ]
    }
   ],
   "source": [
    "altura = 1.70\n",
    "\n",
    "# Seu código\n",
    "\n",
    "imc_ideal = 21.7\n",
    "altura = 1.70\n",
    "\n",
    "peso_ideal = imc_ideal * altura**2\n",
    "print('O peso ideal é', peso_ideal, 'quilos.')\n",
    "\n"
   ]
  },
  {
   "cell_type": "markdown",
   "metadata": {},
   "source": [
    "### 08 - Peso ideal 3\n",
    "Dada uma lista contendo as alturas de pacientes, crie uma nova lista que contenha o peso '*ideal*' (que fornece o IMC calculado em **Peso ideal 1**) desses pacientes."
   ]
  },
  {
   "cell_type": "code",
   "execution_count": 14,
   "metadata": {},
   "outputs": [
    {
     "name": "stdout",
     "output_type": "stream",
     "text": [
      "O peso ideal para altura: 1.95 é 82.51424999999999 quilos.\n",
      "\n",
      "O peso ideal para altura: 2.05 é 91.19425 quilos.\n",
      "\n",
      "O peso ideal para altura: 1.7 é 62.712999999999994 quilos.\n",
      "\n",
      "O peso ideal para altura: 1.65 é 59.07824999999999 quilos. \n",
      "\n",
      "[82.51424999999999, 91.19425, 62.712999999999994, 59.07824999999999]\n"
     ]
    }
   ],
   "source": [
    "\n",
    "# seu código\n",
    "\n",
    "imc_ideal = 21.7\n",
    "lista_peso_ideal = []\n",
    "lista_alturas = [1.95, 2.05, 1.70, 1.65]\n",
    "\n",
    "peso_ideal_0 = imc_ideal * (lista_alturas[0])**2\n",
    "print('O peso ideal para altura:', (lista_alturas[0]), 'é', peso_ideal_0, 'quilos.''\\n')\n",
    "\n",
    "peso_ideal_1 = imc_ideal * (lista_alturas[1])**2\n",
    "print('O peso ideal para altura:', (lista_alturas[1]), 'é', peso_ideal_1, 'quilos.''\\n')\n",
    "\n",
    "peso_ideal_2 = imc_ideal * (lista_alturas[2])**2\n",
    "print('O peso ideal para altura:', (lista_alturas[2]), 'é', peso_ideal_2, 'quilos.''\\n')\n",
    "    \n",
    "peso_ideal_3 = imc_ideal * (lista_alturas[3])**2\n",
    "print('O peso ideal para altura:', (lista_alturas[3]), 'é', peso_ideal_3, 'quilos.','\\n')\n",
    "\n",
    "lista_peso_ideal =[peso_ideal_0, peso_ideal_1, peso_ideal_2, peso_ideal_3]\n",
    "print(lista_peso_ideal)"
   ]
  },
  {
   "cell_type": "markdown",
   "metadata": {},
   "source": [
    "### 09 - Peso ideal 4\n",
    "Dada uma lista de tuplas - cada elemento da lista é uma tupla contendo altura e peso de um paciente - crie uma nova lista com o IMC desses pacientes."
   ]
  },
  {
   "cell_type": "code",
   "execution_count": 142,
   "metadata": {},
   "outputs": [
    {
     "name": "stdout",
     "output_type": "stream",
     "text": [
      "[27.777777777777775, 27.548209366391188, 19.188070502453332]\n"
     ]
    }
   ],
   "source": [
    "\n",
    "# seu código\n",
    "\n",
    "altura_peso = [(1.80, 90), (1.65, 75), (1.91, 70)]\n",
    "\n",
    "lista_imc = []\n",
    "for i in range(len(altura_peso)):\n",
    "    imc = altura_peso[i][1] / altura_peso[i][0]**2\n",
    "    lista_imc.append(imc)\n",
    "print(lista_imc)    "
   ]
  },
  {
   "cell_type": "markdown",
   "metadata": {},
   "source": [
    "### 10 - Peso ideal 5\n",
    "Dada uma lista de **listas** - cada elemento da lista é uma **lista** contendo altura e peso de um paciente, adicione mais um elemento à lista de cada paciente contendo o IMC do paciente. Verifique também se é 'baixo', 'normal' ou 'alto' segundo os padrões da OMS em que normal é entre 18.5 e 24.9.\n",
    "\n",
    "Reflexão: por que no problema anterior temos que criar uma nova lista, e não podemos adicionar os dados de cada indivíduo à tupla?"
   ]
  },
  {
   "cell_type": "code",
   "execution_count": 19,
   "metadata": {},
   "outputs": [
    {
     "data": {
      "text/plain": [
       "[[1.8, 90], [1.65, 75], [1.91, 70]]"
      ]
     },
     "execution_count": 19,
     "metadata": {},
     "output_type": "execute_result"
    }
   ],
   "source": [
    "altura_peso = [[1.80, 90], [1.65, 75], [1.91, 70]]\n",
    "\n",
    "# seu código\n",
    "\n",
    "altura_peso"
   ]
  },
  {
   "cell_type": "code",
   "execution_count": 194,
   "metadata": {},
   "outputs": [
    {
     "name": "stdout",
     "output_type": "stream",
     "text": [
      "[[1.8, 90, 27.777777777777775], [1.65, 75, 27.548209366391188], [1.91, 70, 19.188070502453332]]\n",
      "\n",
      "\n",
      "27.777777777777775\n",
      "alto\n",
      "27.548209366391188\n",
      "alto\n",
      "19.188070502453332\n",
      "normal\n"
     ]
    }
   ],
   "source": [
    "altura_peso = [[1.80, 90], [1.65, 75], [1.91, 70]]\n",
    "\n",
    "for i in range(len(altura_peso)):\n",
    "    imc = altura_peso[i][1] / altura_peso[i][0]**2\n",
    "    altura_peso[i].append(imc)\n",
    "\n",
    "print(altura_peso)\n",
    "\n",
    "print('\\n')\n",
    "\n",
    "for i in range(len(altura_peso)):\n",
    "    print(altura_peso[i][2])\n",
    "    if (altura_peso[i][2]) >= 24.9:\n",
    "        print('alto')\n",
    "    elif (altura_peso[i][2]) <= 18.5:\n",
    "        print('baixo')\n",
    "    else:\n",
    "        print('normal')\n",
    "\n",
    "\n"
   ]
  },
  {
   "cell_type": "code",
   "execution_count": null,
   "metadata": {},
   "outputs": [],
   "source": []
  }
 ],
 "metadata": {
  "kernelspec": {
   "display_name": "Python 3 (ipykernel)",
   "language": "python",
   "name": "python3"
  },
  "language_info": {
   "codemirror_mode": {
    "name": "ipython",
    "version": 3
   },
   "file_extension": ".py",
   "mimetype": "text/x-python",
   "name": "python",
   "nbconvert_exporter": "python",
   "pygments_lexer": "ipython3",
   "version": "3.9.13"
  }
 },
 "nbformat": 4,
 "nbformat_minor": 4
}
